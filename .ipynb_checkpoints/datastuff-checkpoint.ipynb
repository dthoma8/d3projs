{
 "cells": [
  {
   "cell_type": "code",
   "execution_count": null,
   "metadata": {},
   "outputs": [],
   "source": [
    "import pandas as pd"
   ]
  },
  {
   "cell_type": "code",
   "execution_count": null,
   "metadata": {
    "scrolled": true
   },
   "outputs": [],
   "source": [
    "av_data = pd.read_csv(\"./data/Availability.csv\")\n",
    "print(av_data.shape)\n",
    "av_data.head(20)"
   ]
  },
  {
   "cell_type": "code",
   "execution_count": null,
   "metadata": {},
   "outputs": [],
   "source": [
    "av_data.columns"
   ]
  },
  {
   "cell_type": "code",
   "execution_count": null,
   "metadata": {},
   "outputs": [],
   "source": [
    "av_data.FYYearInt.astype(int).astype(str).unique()"
   ]
  },
  {
   "cell_type": "code",
   "execution_count": null,
   "metadata": {
    "scrolled": true
   },
   "outputs": [],
   "source": [
    "av_data.FYQTR.dropna().astype(int).astype(str).unique()"
   ]
  },
  {
   "cell_type": "code",
   "execution_count": null,
   "metadata": {
    "scrolled": true
   },
   "outputs": [],
   "source": [
    "av_data.describe()"
   ]
  },
  {
   "cell_type": "code",
   "execution_count": null,
   "metadata": {
    "scrolled": true
   },
   "outputs": [],
   "source": [
    "av_data.describe(include=[\"object\"])"
   ]
  },
  {
   "cell_type": "code",
   "execution_count": null,
   "metadata": {
    "scrolled": true
   },
   "outputs": [],
   "source": [
    "av_data[[\"ENDITEMUNIQUEID\", \"TMS\"]].drop_duplicates()"
   ]
  },
  {
   "cell_type": "code",
   "execution_count": null,
   "metadata": {
    "scrolled": true
   },
   "outputs": [],
   "source": [
    "av_data[[\"ENDITEMUNIQUEID\", \"FYYearInt\"]].drop_duplicates()"
   ]
  },
  {
   "cell_type": "markdown",
   "metadata": {},
   "source": [
    "*Intents*, **Domains**\n",
    "\n",
    "\n",
    "Which **tms** has the *lowest* **availability %**?\n",
    "\n",
    "*What was* the **availability %** of that **last year**?\n",
    "\n",
    "*Provide a* breakdown by each **item**. (Implied breakdown of **availability %** of each item for a given **tms**)\n",
    "\n",
    "*What is* the **EIC** for **item**? (Implied enditemuniqueid. However, thinking of the case someone has an item code but doesn't know what category it falls in)\n",
    "\n",
    "*What is* the **availability %** for **item 1**, **item 2**, and **item3** from **2010** to **2013**?\n",
    "\n",
    "What were the *total amount* of **days in maintenance** for those **items** in the same **period**?\n",
    "\n",
    "*What is* the **total active inventory**?\n",
    "\n",
    "*What was* the **total active inventory** at this point **last year**?\n",
    "\n",
    "Which **items** have the *lowest* **total active inventory**?\n",
    "\n",
    "Which **scorecard group** has the *lowest* **availability %**?"
   ]
  },
  {
   "cell_type": "code",
   "execution_count": null,
   "metadata": {
    "scrolled": false
   },
   "outputs": [],
   "source": [
    "inventory = pd.read_csv('./data/Inventory.csv')\n",
    "print(inventory.shape)\n",
    "inventory.head(20)"
   ]
  },
  {
   "cell_type": "code",
   "execution_count": null,
   "metadata": {},
   "outputs": [],
   "source": [
    "inventory.columns"
   ]
  },
  {
   "cell_type": "code",
   "execution_count": null,
   "metadata": {},
   "outputs": [],
   "source": [
    "inventory.describe()"
   ]
  },
  {
   "cell_type": "code",
   "execution_count": null,
   "metadata": {},
   "outputs": [],
   "source": [
    "inventory.describe(include=\"object\")"
   ]
  },
  {
   "cell_type": "code",
   "execution_count": null,
   "metadata": {
    "scrolled": true
   },
   "outputs": [],
   "source": [
    "inventory[[\"TMS\", \"FYYearInt\"]].drop_duplicates()"
   ]
  },
  {
   "cell_type": "code",
   "execution_count": null,
   "metadata": {},
   "outputs": [],
   "source": [
    "def yDontPandasHaveInPlaceFilter(pdObj, value, key=None):\n",
    "    \n",
    "    try:\n",
    "        if str(type(pdObj)) == \"<class 'pandas.core.frame.DataFrame'>\":\n",
    "            df=pdObj\n",
    "            return df[df[key]>value]\n",
    "        elif str(type(pdObj))==\"<class 'pandas.core.series.Series'>\":\n",
    "            series=pdObj\n",
    "            return series[series>value]\n",
    "    except Exception as e:\n",
    "        print(\"inplaceFilter failed. See error: %s\"%e)\n",
    "    \n",
    "\n",
    "pd.DataFrame.yDontPandasHaveInPlaceFilter=yDontPandasHaveInPlaceFilter\n",
    "pd.Series.yDontPandasHaveInPlaceFilter=yDontPandasHaveInPlaceFilter"
   ]
  },
  {
   "cell_type": "code",
   "execution_count": null,
   "metadata": {
    "scrolled": true
   },
   "outputs": [],
   "source": [
    "(pd.DataFrame(inventory[[\"TMS\", \"TAI\"]]\n",
    "              .groupby(\"TMS\")\n",
    "              .TAI\n",
    "              .sum()\n",
    "             )\n",
    ").yDontPandasHaveInPlaceFilter(0, \"TAI\").dropna().to_csv()"
   ]
  },
  {
   "cell_type": "code",
   "execution_count": null,
   "metadata": {},
   "outputs": [],
   "source": []
  },
  {
   "cell_type": "markdown",
   "metadata": {},
   "source": [
    "ADD A DEFAULT KEY -digAnlyst.html.getMeta"
   ]
  },
  {
   "cell_type": "markdown",
   "metadata": {},
   "source": [
    "**Domains**, *Intent*\n",
    "\n",
    "*How much* **equipment** is at the **end of its service life**?\n",
    "\n",
    "*How much* **equipment** do I need to **tow**? (SUM(TAI)  ... WHERE ISENDITEM == FALSE)\n",
    "\n",
    "* Note. There is an additional component to consider to inventory questions. W/tms.year being the unique identifier there is an implied 'now' aspect to each question unless someone specifically requires a prior time period answer. Which means by default every query needs to include a filter for the most recent timestamp to provide the must up to date information for the query.\n",
    "\n",
    "*What is* the **scorecard group** for **tms**?\n",
    "\n",
    "Show **availability %** by **year**."
   ]
  },
  {
   "cell_type": "code",
   "execution_count": null,
   "metadata": {},
   "outputs": [],
   "source": [
    "def data2CsvString(data):\n",
    "    \n",
    "    cols = data.columns\n",
    "    string=data.set_index(cols[0]).to_csv()\n",
    "        \n",
    "    return string\n",
    "\n",
    "def writeCsv(csvstring, fname):\n",
    "    \n",
    "    with open(\"./data/\"+fname+\".csv\", \"w\") as f:\n",
    "        f.write(csvstring)\n",
    "        f.close()"
   ]
  },
  {
   "cell_type": "code",
   "execution_count": null,
   "metadata": {},
   "outputs": [],
   "source": [
    "av_data_string = data2CsvString(av_data[[\"AO_AVAILDAYS\", \"SERVICE\"]])\n",
    "av_data_string"
   ]
  },
  {
   "cell_type": "code",
   "execution_count": null,
   "metadata": {},
   "outputs": [],
   "source": [
    "writeCsv(av_data_string, \"av_data_days_service\")"
   ]
  },
  {
   "cell_type": "markdown",
   "metadata": {},
   "source": [
    "Remote team - keeping in touch?\n",
    "\n",
    "Tech stack? Python, bokeh. Are there other tools? Are these driven by client reqs?\n",
    "\n",
    "gov clients\n",
    "\n",
    "specialized analytic needs\n",
    "\n",
    "support for visualization, cusotmization dashboards, nlp\n",
    "\n",
    "we have papers, meta info on papers, refs\n",
    "\n",
    "python\n",
    "\n",
    "slack, zoom\n",
    "\n",
    "topic tool lda driven by client\n",
    "\n",
    "Spec. solution? Problem?\n",
    "\n",
    "switching to snowflake. aws. \n",
    "\n",
    "document clustering, kmeans, look into hierarchical clustering, lsa, truncated sd, topic modeling, word2vec, doc2vec, spacy?????????\n",
    "\n"
   ]
  },
  {
   "cell_type": "markdown",
   "metadata": {},
   "source": [
    "```javascript\n",
    "\n",
    "\n",
    "function readDataFromURL(path, vis_func){\n",
    "      \n",
    "      try{\n",
    "        var hope=[];\n",
    "        d3.csv(path, function(err, data){\n",
    "          console.log(data);\n",
    "          vis_func(data);\n",
    "        });\n",
    "\n",
    "        return hope\n",
    "        \n",
    "      } catch(e){\n",
    "        return e\n",
    "      }\n",
    "    }\n",
    "\n",
    "\n",
    "\n",
    "function setTempData(data, key, value){\n",
    "      data.forEach(function(d){\n",
    "        // key, value contain the string names of the the cols to be the key and valuue\n",
    "        // we will fill in a key and value column for each\n",
    "        d[\"key\"]=[];\n",
    "        d[\"value\"]=[];\n",
    "        d[\"key\"].push(d[key]);\n",
    "        d[\"value\"].push(d[value]);\n",
    "      })\n",
    "    }\n",
    "    \n",
    "\n",
    "```"
   ]
  },
  {
   "cell_type": "code",
   "execution_count": null,
   "metadata": {},
   "outputs": [],
   "source": []
  }
 ],
 "metadata": {
  "kernelspec": {
   "display_name": "Python 3",
   "language": "python",
   "name": "python3"
  },
  "language_info": {
   "codemirror_mode": {
    "name": "ipython",
    "version": 3
   },
   "file_extension": ".py",
   "mimetype": "text/x-python",
   "name": "python",
   "nbconvert_exporter": "python",
   "pygments_lexer": "ipython3",
   "version": "3.7.3"
  }
 },
 "nbformat": 4,
 "nbformat_minor": 2
}
